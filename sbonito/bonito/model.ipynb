{
 "cells": [
  {
   "cell_type": "code",
   "execution_count": 1,
   "id": "aefb67fe-f0d8-44ae-9cab-af6f8fe8ff02",
   "metadata": {},
   "outputs": [
    {
     "ename": "ModuleNotFoundError",
     "evalue": "No module named 'classes'",
     "output_type": "error",
     "traceback": [
      "\u001b[1;31m---------------------------------------------------------------------------\u001b[0m",
      "\u001b[1;31mModuleNotFoundError\u001b[0m                       Traceback (most recent call last)",
      "Cell \u001b[1;32mIn[1], line 5\u001b[0m\n\u001b[0;32m      2\u001b[0m \u001b[39mimport\u001b[39;00m \u001b[39msys\u001b[39;00m\n\u001b[0;32m      4\u001b[0m sys\u001b[39m.\u001b[39mpath\u001b[39m.\u001b[39mappend(\u001b[39m'\u001b[39m\u001b[39m../../../src\u001b[39m\u001b[39m'\u001b[39m)\n\u001b[1;32m----> 5\u001b[0m \u001b[39mfrom\u001b[39;00m \u001b[39mclasses\u001b[39;00m \u001b[39mimport\u001b[39;00m BaseNanoporeDataset\n\u001b[0;32m      6\u001b[0m \u001b[39mfrom\u001b[39;00m \u001b[39mlayers\u001b[39;00m \u001b[39mimport\u001b[39;00m BonitoLSTM\n\u001b[0;32m      7\u001b[0m \u001b[39mfrom\u001b[39;00m \u001b[39mtorch\u001b[39;00m\u001b[39m.\u001b[39;00m\u001b[39mutils\u001b[39;00m\u001b[39m.\u001b[39;00m\u001b[39mdata\u001b[39;00m \u001b[39mimport\u001b[39;00m DataLoader\n",
      "\u001b[1;31mModuleNotFoundError\u001b[0m: No module named 'classes'"
     ]
    }
   ],
   "source": [
    "import numpy as np\n",
    "import sys\n",
    "\n",
    "sys.path.append('../../../src')\n",
    "from classes import BaseNanoporeDataset\n",
    "from layers import BonitoLSTM\n",
    "from torch.utils.data import DataLoader\n",
    "\n",
    "\n",
    "from torch import nn\n",
    "import torch"
   ]
  },
  {
   "cell_type": "code",
   "execution_count": null,
   "id": "ed18cfac",
   "metadata": {},
   "outputs": [],
   "source": []
  },
  {
   "cell_type": "code",
   "execution_count": 19,
   "id": "2a38453f-ec15-4ee5-8716-0e9e42224f9d",
   "metadata": {},
   "outputs": [],
   "source": [
    "data_dir = '/hpc/compgen/projects/nanoxog/babe/analysis/mpages/train_input/inter/2000.0'\n",
    "encoding_dict = {'A': 1 , 'C':  2 , 'G':  3 , 'T':  4 , '':  0}\n",
    "decoding_dict = { 1 :'A',  2 : 'C',  3 : 'G',  4 : 'T', 0 : ''}"
   ]
  },
  {
   "cell_type": "code",
   "execution_count": 20,
   "id": "a09972f2-3dfa-4b3c-ab5b-1f2576a021f1",
   "metadata": {},
   "outputs": [],
   "source": [
    "ND = BaseNanoporeDataset(data_dir = data_dir, \n",
    "                         encoding_dict = encoding_dict, \n",
    "                         decoding_dict = decoding_dict, \n",
    "                         shuffle = True)"
   ]
  },
  {
   "cell_type": "markdown",
   "id": "faa893cd",
   "metadata": {},
   "source": []
  },
  {
   "cell_type": "code",
   "execution_count": 21,
   "id": "3b8b9d5b-9057-401a-826a-c134db27eaa7",
   "metadata": {},
   "outputs": [],
   "source": [
    "train_loader = DataLoader(ND, batch_size = 64, sampler = ND.train_sampler, num_workers = 2)\n",
    "validation_loader = DataLoader(ND, batch_size = 64, sampler = ND.validation_sampler, num_workers = 1)"
   ]
  },
  {
   "cell_type": "code",
   "execution_count": 22,
   "id": "93348bd4-f2ae-4b71-8d79-5be2ca115d71",
   "metadata": {},
   "outputs": [
    {
     "data": {
      "text/plain": [
       "{1: 'A', 2: 'C', 3: 'G', 4: 'T', 0: ''}"
      ]
     },
     "execution_count": 22,
     "metadata": {},
     "output_type": "execute_result"
    }
   ],
   "source": [
    "train_loader.dataset.decoding_dict"
   ]
  },
  {
   "cell_type": "code",
   "execution_count": 23,
   "id": "949b4bd5-378a-48d9-9356-cef66fbaf5af",
   "metadata": {},
   "outputs": [],
   "source": [
    "convolution = nn.Sequential(nn.Conv1d(1, 4, \n",
    "                                           kernel_size = 5, stride= 1, padding=5//2, bias=True),\n",
    "                                 nn.SiLU(),\n",
    "                                 nn.Conv1d(4, 16, \n",
    "                                           kernel_size = 5, stride= 1, padding=5//2, bias=True),\n",
    "                                 nn.SiLU(),\n",
    "                                 nn.Conv1d(16, 384, \n",
    "                                           kernel_size = 19, stride= 5, padding=19//2, bias=True),\n",
    "                                 nn.SiLU())\n",
    "rnn = nn.Sequential(BonitoLSTM(384, 384, reverse = True),\n",
    "                         BonitoLSTM(384, 384, reverse = False),\n",
    "                         BonitoLSTM(384, 384, reverse = True),\n",
    "                         BonitoLSTM(384, 384, reverse = False),\n",
    "                         BonitoLSTM(384, 384, reverse = True))\n",
    "\n",
    "decoder = nn.Sequential(nn.Linear(384, 5), nn.LogSoftmax(-1))"
   ]
  },
  {
   "cell_type": "code",
   "execution_count": 24,
   "id": "4d819738-cbe3-462d-a36c-295a6c87e1ec",
   "metadata": {
    "tags": []
   },
   "outputs": [],
   "source": [
    "y_list = list()\n",
    "for train_batch_num, train_batch in enumerate(train_loader):\n",
    "    break\n"
   ]
  },
  {
   "cell_type": "code",
   "execution_count": 25,
   "id": "fc8892ee-469d-4171-8a05-fe1b1d92996d",
   "metadata": {},
   "outputs": [],
   "source": [
    "x = train_batch['x']\n",
    "x = x.unsqueeze(1) # add channels dimension\n",
    "x = convolution(x)\n",
    "x = x.permute(2, 0, 1) # [len, batch, channels]\n",
    "x = rnn(x)\n",
    "x = decoder(x)"
   ]
  },
  {
   "cell_type": "code",
   "execution_count": 26,
   "id": "e4b9e926-a4cb-417c-9a12-ebff758a41a1",
   "metadata": {},
   "outputs": [
    {
     "data": {
      "text/plain": [
       "torch.Size([400, 64, 5])"
      ]
     },
     "execution_count": 26,
     "metadata": {},
     "output_type": "execute_result"
    }
   ],
   "source": [
    "x.shape"
   ]
  },
  {
   "cell_type": "code",
   "execution_count": 1,
   "id": "7eff7c57-5677-403e-b17e-822fb8bb314d",
   "metadata": {},
   "outputs": [
    {
     "ename": "NameError",
     "evalue": "name 'train_batch' is not defined",
     "output_type": "error",
     "traceback": [
      "\u001b[1;31m---------------------------------------------------------------------------\u001b[0m",
      "\u001b[1;31mNameError\u001b[0m                                 Traceback (most recent call last)",
      "Cell \u001b[1;32mIn[1], line 1\u001b[0m\n\u001b[1;32m----> 1\u001b[0m y \u001b[39m=\u001b[39m train_batch[\u001b[39m'\u001b[39m\u001b[39my\u001b[39m\u001b[39m'\u001b[39m]\n",
      "\u001b[1;31mNameError\u001b[0m: name 'train_batch' is not defined"
     ]
    }
   ],
   "source": [
    "y = train_batch['y']"
   ]
  },
  {
   "cell_type": "code",
   "execution_count": 31,
   "id": "01f0070e-acfd-4e18-b293-2ea51e544096",
   "metadata": {},
   "outputs": [],
   "source": [
    "for i in y[0]:\n",
    "    break"
   ]
  },
  {
   "cell_type": "code",
   "execution_count": 34,
   "id": "c3b8ca95-9bec-444d-81df-a0598ace808f",
   "metadata": {},
   "outputs": [
    {
     "data": {
      "text/plain": [
       "'T'"
      ]
     },
     "execution_count": 34,
     "metadata": {},
     "output_type": "execute_result"
    }
   ],
   "source": [
    "decoding_dict[i.item()]"
   ]
  },
  {
   "cell_type": "code",
   "execution_count": 2,
   "id": "38196350-668b-46f0-b0bc-17586c5df75e",
   "metadata": {},
   "outputs": [],
   "source": [
    "from utils import alignment_accuracy"
   ]
  },
  {
   "cell_type": "code",
   "execution_count": 3,
   "id": "26a3d732-95e0-4523-8f2c-be27bd97d979",
   "metadata": {},
   "outputs": [],
   "source": [
    "p = 'ACGATGAAGAGTACA'\n",
    "y = 'ACGATGACAGAGTAGAC'"
   ]
  },
  {
   "cell_type": "code",
   "execution_count": 4,
   "id": "52a1858a-1413-49f3-bc75-b43781ae6182",
   "metadata": {},
   "outputs": [
    {
     "data": {
      "text/plain": [
       "0.8235294117647058"
      ]
     },
     "execution_count": 4,
     "metadata": {},
     "output_type": "execute_result"
    }
   ],
   "source": [
    "alignment_accuracy(y, p)"
   ]
  },
  {
   "cell_type": "code",
   "execution_count": 9,
   "id": "88a898b9-6195-4d7b-8c26-7077cba78d76",
   "metadata": {},
   "outputs": [
    {
     "data": {
      "text/plain": [
       "'/hpc/compgen/users/mpages/babe/scripts'"
      ]
     },
     "execution_count": 9,
     "metadata": {},
     "output_type": "execute_result"
    }
   ],
   "source": [
    "'/'.join('/hpc/compgen/users/mpages/babe/scripts/untitled.py'.split('/')[:-1])"
   ]
  },
  {
   "cell_type": "code",
   "execution_count": 15,
   "id": "7ffaa559-a4f3-4cd0-a2f6-7f05f070b1fd",
   "metadata": {},
   "outputs": [
    {
     "data": {
      "text/plain": [
       "1"
      ]
     },
     "execution_count": 15,
     "metadata": {},
     "output_type": "execute_result"
    }
   ],
   "source": [
    "1 % 100"
   ]
  }
 ],
 "metadata": {
  "kernelspec": {
   "display_name": "Python 3 (ipykernel)",
   "language": "python",
   "name": "python3"
  },
  "language_info": {
   "codemirror_mode": {
    "name": "ipython",
    "version": 3
   },
   "file_extension": ".py",
   "mimetype": "text/x-python",
   "name": "python",
   "nbconvert_exporter": "python",
   "pygments_lexer": "ipython3",
   "version": "3.11.0"
  }
 },
 "nbformat": 4,
 "nbformat_minor": 5
}
